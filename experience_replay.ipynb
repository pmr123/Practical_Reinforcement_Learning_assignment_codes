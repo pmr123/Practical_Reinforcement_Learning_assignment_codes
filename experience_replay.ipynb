{
  "nbformat": 4,
  "nbformat_minor": 0,
  "metadata": {
    "colab": {
      "name": "experience_replay.ipynb",
      "provenance": []
    },
    "kernelspec": {
      "name": "python3",
      "display_name": "Python 3"
    }
  },
  "cells": [
    {
      "cell_type": "markdown",
      "metadata": {
        "id": "57_iyJqHfXWr"
      },
      "source": [
        "### Honor Track: experience replay\n",
        "\n",
        "There's a powerful technique that you can use to improve sample efficiency for off-policy algorithms: [spoiler] Experience replay :)\n",
        "\n",
        "The catch is that you can train Q-learning and EV-SARSA on `<s,a,r,s'>` tuples even if they aren't sampled under current agent's policy. So here's what we're gonna do:\n",
        "\n",
        "<img src=https://github.com/yandexdataschool/Practical_RL/raw/master/yet_another_week/_resource/exp_replay.png width=480>\n",
        "\n",
        "#### Training with experience replay\n",
        "1. Play game, sample `<s,a,r,s'>`.\n",
        "2. Update q-values based on `<s,a,r,s'>`.\n",
        "3. Store `<s,a,r,s'>` transition in a buffer. \n",
        " 3. If buffer is full, delete earliest data.\n",
        "4. Sample K such transitions from that buffer and update q-values based on them.\n",
        "\n",
        "\n",
        "To enable such training, first we must implement a memory structure that would act like such a buffer."
      ]
    },
    {
      "cell_type": "code",
      "metadata": {
        "id": "Ph1LMvHVfXWx"
      },
      "source": [
        "import numpy as np\n",
        "import matplotlib.pyplot as plt\n",
        "%matplotlib inline\n",
        "\n",
        "from IPython.display import clear_output"
      ],
      "execution_count": 1,
      "outputs": []
    },
    {
      "cell_type": "code",
      "metadata": {
        "id": "pPUX28QcfXWx"
      },
      "source": [
        "from collections import defaultdict\r\n",
        "import random\r\n",
        "import math\r\n",
        "import numpy as np\r\n",
        "\r\n",
        "\r\n",
        "class QLearningAgent:\r\n",
        "    def __init__(self, alpha, epsilon, discount, get_legal_actions):\r\n",
        "        \"\"\"\r\n",
        "        Q-Learning Agent\r\n",
        "        based on https://inst.eecs.berkeley.edu/~cs188/sp19/projects.html\r\n",
        "        Instance variables you have access to\r\n",
        "          - self.epsilon (exploration prob)\r\n",
        "          - self.alpha (learning rate)\r\n",
        "          - self.discount (discount rate aka gamma)\r\n",
        "\r\n",
        "        Functions you should use\r\n",
        "          - self.get_legal_actions(state) {state, hashable -> list of actions, each is hashable}\r\n",
        "            which returns legal actions for a state\r\n",
        "          - self.get_qvalue(state,action)\r\n",
        "            which returns Q(state,action)\r\n",
        "          - self.set_qvalue(state,action,value)\r\n",
        "            which sets Q(state,action) := value\r\n",
        "        !!!Important!!!\r\n",
        "        Note: please avoid using self._qValues directly. \r\n",
        "            There's a special self.get_qvalue/set_qvalue for that.\r\n",
        "        \"\"\"\r\n",
        "\r\n",
        "        self.get_legal_actions = get_legal_actions\r\n",
        "        self._qvalues = defaultdict(lambda: defaultdict(lambda: 0))\r\n",
        "        self.alpha = alpha\r\n",
        "        self.epsilon = epsilon\r\n",
        "        self.discount = discount\r\n",
        "\r\n",
        "    def get_qvalue(self, state, action):\r\n",
        "        \"\"\" Returns Q(state,action) \"\"\"\r\n",
        "        return self._qvalues[state][action]\r\n",
        "\r\n",
        "    def set_qvalue(self, state, action, value):\r\n",
        "        \"\"\" Sets the Qvalue for [state,action] to the given value \"\"\"\r\n",
        "        self._qvalues[state][action] = value\r\n",
        "\r\n",
        "    #---------------------START OF YOUR CODE---------------------#\r\n",
        "\r\n",
        "    def get_value(self, state):\r\n",
        "        \"\"\"\r\n",
        "        Compute your agent's estimate of V(s) using current q-values\r\n",
        "        V(s) = max_over_action Q(state,action) over possible actions.\r\n",
        "        Note: please take into account that q-values can be negative.\r\n",
        "        \"\"\"\r\n",
        "        possible_actions = self.get_legal_actions(state)\r\n",
        "\r\n",
        "        # If there are no legal actions, return 0.0\r\n",
        "        if len(possible_actions) == 0:\r\n",
        "            return 0.0\r\n",
        "\r\n",
        "        q_values = {action : self.get_qvalue(state, action) for action in possible_actions}\r\n",
        "        value = max(q_values.values())\r\n",
        "\r\n",
        "        return value\r\n",
        "\r\n",
        "    def update(self, state, action, reward, next_state):\r\n",
        "        \"\"\"\r\n",
        "        You should do your Q-Value update here:\r\n",
        "           Q(s,a) := (1 - alpha) * Q(s,a) + alpha * (r + gamma * V(s'))\r\n",
        "        \"\"\"\r\n",
        "\r\n",
        "        # agent parameters\r\n",
        "        gamma = self.discount\r\n",
        "        learning_rate = self.alpha\r\n",
        "\r\n",
        "        q_value = (1 - learning_rate)*self.get_qvalue(state, action) + learning_rate*(reward + gamma*self.get_value(next_state)) \r\n",
        "\r\n",
        "        self.set_qvalue(state, action, q_value )\r\n",
        "\r\n",
        "    def get_best_action(self, state):\r\n",
        "        \"\"\"\r\n",
        "        Compute the best action to take in a state (using current q-values). \r\n",
        "        \"\"\"\r\n",
        "        possible_actions = self.get_legal_actions(state)\r\n",
        "\r\n",
        "        # If there are no legal actions, return None\r\n",
        "        if len(possible_actions) == 0:\r\n",
        "            return None\r\n",
        "\r\n",
        "        q_values = {action : self.get_qvalue(state, action) for action in possible_actions}\r\n",
        "        best_action = max(q_values, key=q_values.get)\r\n",
        "\r\n",
        "        return best_action\r\n",
        "\r\n",
        "    def get_action(self, state):\r\n",
        "        \"\"\"\r\n",
        "        Compute the action to take in the current state, including exploration.  \r\n",
        "        With probability self.epsilon, we should take a random action.\r\n",
        "            otherwise - the best policy action (self.get_best_action).\r\n",
        "\r\n",
        "        Note: To pick randomly from a list, use random.choice(list). \r\n",
        "              To pick True or False with a given probablity, generate uniform number in [0, 1]\r\n",
        "              and compare it with your probability\r\n",
        "        \"\"\"\r\n",
        "\r\n",
        "        # Pick Action\r\n",
        "        possible_actions = self.get_legal_actions(state)\r\n",
        "        action = None\r\n",
        "\r\n",
        "        # If there are no legal actions, return None\r\n",
        "        if len(possible_actions) == 0:\r\n",
        "            return None\r\n",
        "\r\n",
        "        # agent parameters:\r\n",
        "        epsilon = self.epsilon\r\n",
        "\r\n",
        "        if(random.uniform(0,1) <=  epsilon):\r\n",
        "          #random (exploration)\r\n",
        "          chosen_action = random.choice(possible_actions)\r\n",
        "        else:\r\n",
        "          #best action (exploitation)\r\n",
        "          chosen_action = self.get_best_action(state)\r\n",
        "\r\n",
        "        return chosen_action"
      ],
      "execution_count": 2,
      "outputs": []
    },
    {
      "cell_type": "code",
      "metadata": {
        "id": "aTOj5T8cfXWy"
      },
      "source": [
        "import random\n",
        "\n",
        "\n",
        "class ReplayBuffer(object):\n",
        "    def __init__(self, size):\n",
        "        \"\"\"\n",
        "        Create Replay buffer.\n",
        "        Parameters\n",
        "        ----------\n",
        "        size: int\n",
        "            Max number of transitions to store in the buffer. When the buffer\n",
        "            overflows the old memories are dropped.\n",
        "\n",
        "        Note: for this assignment you can pick any data structure you want.\n",
        "              If you want to keep it simple, you can store a list of tuples of (s, a, r, s') in self._storage\n",
        "              However you may find out there are faster and/or more memory-efficient ways to do so.\n",
        "        \"\"\"\n",
        "        self._storage = []\n",
        "        self._maxsize = size\n",
        "\n",
        "\n",
        "    def __len__(self):\n",
        "        return len(self._storage)\n",
        "\n",
        "    def add(self, obs_t, action, reward, obs_tp1, done):\n",
        "        '''\n",
        "        Make sure, _storage will not exceed _maxsize. \n",
        "        Make sure, FIFO rule is being followed: the oldest examples has to be removed earlier\n",
        "        '''\n",
        "        data = (obs_t, action, reward, obs_tp1, done)\n",
        "\n",
        "        # add data to storage\n",
        "        self._storage.append(data)\n",
        "\n",
        "        # making sure size does not exceed _maxsize\n",
        "        while(len(self._storage) > self._maxsize):\n",
        "          self._storage.pop(0)\n",
        "        \n",
        "\n",
        "    def sample(self, batch_size):\n",
        "        \"\"\"Sample a batch of experiences.\n",
        "        Parameters\n",
        "        ----------\n",
        "        batch_size: int\n",
        "            How many transitions to sample.\n",
        "        Returns\n",
        "        -------\n",
        "        obs_batch: np.array\n",
        "            batch of observations\n",
        "        act_batch: np.array\n",
        "            batch of actions executed given obs_batch\n",
        "        rew_batch: np.array\n",
        "            rewards received as results of executing act_batch\n",
        "        next_obs_batch: np.array\n",
        "            next set of observations seen after executing act_batch\n",
        "        done_mask: np.array\n",
        "            done_mask[i] = 1 if executing act_batch[i] resulted in\n",
        "            the end of an episode and 0 otherwise.\n",
        "        \"\"\"\n",
        "        if(batch_size == 1):\n",
        "          return (\n",
        "            np.array( [self._storage[0][0]] ),\n",
        "            np.array( [self._storage[0][1]] ),\n",
        "            np.array( [self._storage[0][2]] ),\n",
        "            np.array( [self._storage[0][3]] ),\n",
        "            np.array( [self._storage[0][4]] ),\n",
        "        )\n",
        "\n",
        "        idxes = range(batch_size)\n",
        "        samples = [self._storage[random.randint(0, len(self._storage)-1)] for x in idxes]\n",
        "\n",
        "        return (\n",
        "            np.array( [x[0] for x in samples] ),\n",
        "            np.array( [x[1] for x in samples] ),\n",
        "            np.array( [x[2] for x in samples] ),\n",
        "            np.array( [x[3] for x in samples] ),\n",
        "            np.array( [x[4] for x in samples] ),\n",
        "        )"
      ],
      "execution_count": 3,
      "outputs": []
    },
    {
      "cell_type": "markdown",
      "metadata": {
        "id": "HQjs7aL7fXWy"
      },
      "source": [
        "Some tests to make sure your buffer works right"
      ]
    },
    {
      "cell_type": "code",
      "metadata": {
        "id": "sMBhalA1fXWy",
        "colab": {
          "base_uri": "https://localhost:8080/"
        },
        "outputId": "6438d402-4918-4b93-9e20-52f1cadbae86"
      },
      "source": [
        "def obj2arrays(obj):\n",
        "    for x in obj:\n",
        "        yield np.array([x])\n",
        "\n",
        "def obj2sampled(obj):\n",
        "    return tuple(obj2arrays(obj))\n",
        "\n",
        "replay = ReplayBuffer(2)\n",
        "obj1 = (0, 1, 2, 3, True)\n",
        "obj2 = (4, 5, 6, 7, False)\n",
        "replay.add(*obj1)\n",
        "assert replay.sample(1) == obj2sampled(obj1), \\\n",
        "    \"If there's just one object in buffer, it must be retrieved by buf.sample(1)\"\n",
        "replay.add(*obj2)\n",
        "assert len(replay) == 2, \"Please make sure __len__ methods works as intended.\"\n",
        "replay.add(*obj2)\n",
        "assert len(replay) == 2, \"When buffer is at max capacity, replace objects instead of adding new ones.\"\n",
        "assert tuple(np.unique(a) for a in replay.sample(100)) == obj2sampled(obj2)\n",
        "replay.add(*obj1)\n",
        "assert max(len(np.unique(a)) for a in replay.sample(100)) == 2\n",
        "replay.add(*obj1)\n",
        "assert tuple(np.unique(a) for a in replay.sample(100)) == obj2sampled(obj1)\n",
        "print(\"Success!\")"
      ],
      "execution_count": 4,
      "outputs": [
        {
          "output_type": "stream",
          "text": [
            "Success!\n"
          ],
          "name": "stdout"
        }
      ]
    },
    {
      "cell_type": "markdown",
      "metadata": {
        "id": "RrQ9QpvYfXWz"
      },
      "source": [
        "Now let's use this buffer to improve training:"
      ]
    },
    {
      "cell_type": "code",
      "metadata": {
        "id": "ar4UTrvdfXWz"
      },
      "source": [
        "import gym\n",
        "env = gym.make(\"Taxi-v3\")\n",
        "n_actions = env.action_space.n"
      ],
      "execution_count": 5,
      "outputs": []
    },
    {
      "cell_type": "code",
      "metadata": {
        "id": "iF5sx_WAfXWz"
      },
      "source": [
        "def play_and_train_with_replay(env, agent, replay=None,\n",
        "                               t_max=10**4, replay_batch_size=32):\n",
        "    \"\"\"\n",
        "    This function should \n",
        "    - run a full game, actions given by agent.getAction(s)\n",
        "    - train agent using agent.update(...) whenever possible\n",
        "    - return total reward\n",
        "    :param replay: ReplayBuffer where agent can store and sample (s,a,r,s',done) tuples.\n",
        "        If None, do not use experience replay\n",
        "    \"\"\"\n",
        "    total_reward = 0.0\n",
        "    s = env.reset()\n",
        "\n",
        "    for t in range(t_max):\n",
        "        # get agent to pick action given state s\n",
        "        a = agent.get_action(s) \n",
        "\n",
        "        next_s, r, done, _ = env.step(a)\n",
        "\n",
        "        # update agent on current transition. Use agent.update\n",
        "        agent.update(s, a, r, next_s)\n",
        "\n",
        "        if replay is not None:\n",
        "            # store current <s,a,r,s'> transition in buffer\n",
        "            replay.add(s, a, r, next_s, done)\n",
        "\n",
        "            # sample replay_batch_size random transitions from replay,\n",
        "            # then update agent on each of them in a loop\n",
        "            s_, a_, r_, next_s_, done_ = replay.sample(replay_batch_size)\n",
        "            for i in range(replay_batch_size):\n",
        "                agent.update(s_[i], a_[i], r_[i], next_s_[i])\n",
        "\n",
        "        s = next_s\n",
        "        total_reward += r\n",
        "        if done:\n",
        "            break\n",
        "\n",
        "    return total_reward"
      ],
      "execution_count": 6,
      "outputs": []
    },
    {
      "cell_type": "code",
      "metadata": {
        "id": "1WLLZugefXWz"
      },
      "source": [
        "# Create two agents: first will use experience replay, second will not.\n",
        "\n",
        "agent_baseline = QLearningAgent(\n",
        "    alpha=0.5, epsilon=0.25, discount=0.99,\n",
        "    get_legal_actions=lambda s: range(n_actions))\n",
        "\n",
        "agent_replay = QLearningAgent(\n",
        "    alpha=0.5, epsilon=0.25, discount=0.99,\n",
        "    get_legal_actions=lambda s: range(n_actions))\n",
        "\n",
        "replay = ReplayBuffer(1000)"
      ],
      "execution_count": 7,
      "outputs": []
    },
    {
      "cell_type": "code",
      "metadata": {
        "id": "4kaUF7pBfXW0",
        "colab": {
          "base_uri": "https://localhost:8080/",
          "height": 300
        },
        "outputId": "6c5cd057-ab9d-4c80-db56-0bf5ffcdd3ab"
      },
      "source": [
        "from IPython.display import clear_output\n",
        "import pandas as pd\n",
        "\n",
        "def moving_average(x, span=100):\n",
        "    return pd.DataFrame({'x': np.asarray(x)}).x.ewm(span=span).mean().values\n",
        "\n",
        "rewards_replay, rewards_baseline = [], []\n",
        "\n",
        "for i in range(1000):\n",
        "    rewards_replay.append(\n",
        "        play_and_train_with_replay(env, agent_replay, replay))\n",
        "    rewards_baseline.append(\n",
        "        play_and_train_with_replay(env, agent_baseline, replay=None))\n",
        "\n",
        "    agent_replay.epsilon *= 0.99\n",
        "    agent_baseline.epsilon *= 0.99\n",
        "\n",
        "    if i % 100 == 0:\n",
        "        clear_output(True)\n",
        "        print('Baseline : eps =', agent_replay.epsilon,\n",
        "              'mean reward =', np.mean(rewards_baseline[-10:]))\n",
        "        print('ExpReplay: eps =', agent_baseline.epsilon,\n",
        "              'mean reward =', np.mean(rewards_replay[-10:]))\n",
        "        plt.plot(moving_average(rewards_replay), label='exp. replay')\n",
        "        plt.plot(moving_average(rewards_baseline), label='baseline')\n",
        "        plt.grid()\n",
        "        plt.legend()\n",
        "        plt.show()"
      ],
      "execution_count": 8,
      "outputs": [
        {
          "output_type": "stream",
          "text": [
            "Baseline : eps = 2.9191091959171894e-05 mean reward = 8.4\n",
            "ExpReplay: eps = 2.9191091959171894e-05 mean reward = 6.9\n"
          ],
          "name": "stdout"
        },
        {
          "output_type": "display_data",
          "data": {
            "image/png": "[encoded data removed]",
            "text/plain": [
              "<Figure size 432x288 with 1 Axes>"
            ]
          },
          "metadata": {
            "tags": [],
            "needs_background": "light"
          }
        }
      ]
    },
    {
      "cell_type": "markdown",
      "metadata": {
        "id": "6J_rLqLTfXW1"
      },
      "source": [
        "#### What to expect:\n",
        "\n",
        "Experience replay, if implemented correctly, will improve algorithm's initial convergence a lot, but it shouldn't affect the final performance.\n",
        "\n",
        "### Outro\n",
        "\n",
        "We will use the code you just wrote extensively in the next week of our course. If you're feeling that you need more examples to understand how experience replay works, try using it for binarized state spaces (CartPole or other __[classic control envs](https://gym.openai.com/envs/#classic_control)__).\n",
        "\n",
        "__Next week__ we're gonna explore how q-learning and similar algorithms can be applied for large state spaces, with deep learning models to approximate the Q function.\n",
        "\n",
        "However, __the code you've written__ for this week is already capable of solving many RL problems, and as an added benifit - it is very easy to detach. You can use Q-learning, SARSA and Experience Replay for any RL problems you want to solve - just thow 'em into a file and import the stuff you need."
      ]
    }
  ]
}